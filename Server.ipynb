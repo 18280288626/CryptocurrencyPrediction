{
 "cells": [
  {
   "cell_type": "code",
   "execution_count": 1,
   "metadata": {},
   "outputs": [
    {
     "name": "stderr",
     "output_type": "stream",
     "text": [
      "Using TensorFlow backend.\n"
     ]
    }
   ],
   "source": [
    "import json\n",
    "import numpy as np\n",
    "import os\n",
    "import pandas as pd\n",
    "import urllib2\n",
    "from datetime import datetime\n",
    "import calendar\n",
    "from keras import applications\n",
    "from keras.models import Sequential\n",
    "from keras.models import Model\n",
    "from keras.layers import Dropout, Flatten, Dense, Activation, Reshape, LeakyReLU\n",
    "from keras.callbacks import CSVLogger\n",
    "import tensorflow as tf\n",
    "from scipy.ndimage import imread\n",
    "import numpy as np\n",
    "import random\n",
    "from keras.layers import LSTM\n",
    "from keras.layers import Conv1D, MaxPooling1D\n",
    "from keras import backend as K\n",
    "import keras\n",
    "from keras.callbacks import CSVLogger, ModelCheckpoint\n",
    "from keras.backend.tensorflow_backend import set_session\n",
    "from keras import optimizers\n",
    "import h5py\n",
    "from sklearn.preprocessing import MinMaxScaler\n",
    "import os\n",
    "import pandas as pd\n",
    "# import matplotlib\n",
    "import h5py\n"
   ]
  },
  {
   "cell_type": "code",
   "execution_count": 2,
   "metadata": {
    "collapsed": true
   },
   "outputs": [],
   "source": [
    "os.environ['CUDA_DEVICE_ORDER'] = 'PCI_BUS_ID'\n",
    "os.environ['CUDA_VISIBLE_DEVICES'] = '0'\n",
    "os.environ['TF_CPP_MIN_LOG_LEVEL']='2'"
   ]
  },
  {
   "cell_type": "code",
   "execution_count": 3,
   "metadata": {
    "collapsed": true
   },
   "outputs": [],
   "source": [
    "config = tf.ConfigProto()\n",
    "config.gpu_options.allow_growth = True\n",
    "set_session(tf.Session(config=config))"
   ]
  },
  {
   "cell_type": "code",
   "execution_count": 4,
   "metadata": {},
   "outputs": [
    {
     "data": {
      "text/plain": [
       "1514770800"
      ]
     },
     "execution_count": 4,
     "metadata": {},
     "output_type": "execute_result"
    }
   ],
   "source": [
    "d = datetime.utcnow()\n",
    "unixtime = calendar.timegm(d.utctimetuple())\n",
    "\n",
    "unixtime = unixtime /100 *100\n",
    "past_unixtime = unixtime- 300*300\n",
    "past_unixtime"
   ]
  },
  {
   "cell_type": "code",
   "execution_count": 5,
   "metadata": {
    "collapsed": true
   },
   "outputs": [],
   "source": [
    "url = 'https://poloniex.com/public?command=returnChartData&currencyPair=USDT_BTC&start='+str(past_unixtime)+'&end=9999999999&period=300'\n",
    "openUrl = urllib2.urlopen(url)\n",
    "r = openUrl.read()\n",
    "openUrl.close()\n",
    "d = json.loads(r.decode())\n"
   ]
  },
  {
   "cell_type": "code",
   "execution_count": 6,
   "metadata": {
    "scrolled": true
   },
   "outputs": [
    {
     "data": {
      "text/plain": [
       "(256, 5)"
      ]
     },
     "execution_count": 6,
     "metadata": {},
     "output_type": "execute_result"
    }
   ],
   "source": [
    "df = pd.DataFrame(d)\n",
    "original_columns=[u'close', u'date', u'high', u'low', u'open']\n",
    "new_columns = ['Close','Timestamp','High','Low','Open']\n",
    "df = df.loc[:,original_columns]\n",
    "df.columns = new_columns\n",
    "df = df.iloc[-256:,:]\n",
    "df.shape"
   ]
  },
  {
   "cell_type": "code",
   "execution_count": 7,
   "metadata": {},
   "outputs": [
    {
     "data": {
      "text/plain": [
       "(256,)"
      ]
     },
     "execution_count": 7,
     "metadata": {},
     "output_type": "execute_result"
    }
   ],
   "source": [
    "datas = df.Close\n",
    "datas.shape"
   ]
  },
  {
   "cell_type": "code",
   "execution_count": 8,
   "metadata": {
    "collapsed": true
   },
   "outputs": [],
   "source": [
    "with h5py.File(''.join(['bitcoin2015to2017_close.h5']), 'r') as hf:\n",
    "    original_datas = hf['original_datas'].value"
   ]
  },
  {
   "cell_type": "code",
   "execution_count": 9,
   "metadata": {
    "scrolled": true
   },
   "outputs": [
    {
     "name": "stderr",
     "output_type": "stream",
     "text": [
      "/home/data/khuangaf/miniconda2/envs/py27/lib/python2.7/site-packages/ipykernel_launcher.py:4: FutureWarning: reshape is deprecated and will raise in a subsequent release. Please use .values.reshape(...) instead\n",
      "  after removing the cwd from sys.path.\n"
     ]
    }
   ],
   "source": [
    "from sklearn.preprocessing import MinMaxScaler\n",
    "scaler = MinMaxScaler()\n",
    "scaler.fit(original_datas[:,0].reshape(-1,1))\n",
    "datas= scaler.transform(datas.reshape(-1,1))"
   ]
  },
  {
   "cell_type": "code",
   "execution_count": 10,
   "metadata": {},
   "outputs": [
    {
     "data": {
      "text/plain": [
       "(1, 256, 1)"
      ]
     },
     "execution_count": 10,
     "metadata": {},
     "output_type": "execute_result"
    }
   ],
   "source": [
    "datas=datas[None,:,:]\n",
    "datas.shape"
   ]
  },
  {
   "cell_type": "code",
   "execution_count": 11,
   "metadata": {
    "collapsed": true
   },
   "outputs": [],
   "source": [
    "step_size = datas.shape[1]\n",
    "batch_size= 8\n",
    "nb_features = datas.shape[2]\n",
    "epochs = 1\n",
    "output_size=16\n",
    "units= 50\n",
    "second_units=30"
   ]
  },
  {
   "cell_type": "code",
   "execution_count": 12,
   "metadata": {
    "collapsed": true
   },
   "outputs": [],
   "source": [
    "model = Sequential()\n",
    "model.add(LSTM(units=units, activation=None, input_shape=(step_size,nb_features),return_sequences=False))\n",
    "model.add(Activation('tanh'))\n",
    "model.add(Dropout(0.2))\n",
    "model.add(Dense(output_size))\n",
    "model.add(LeakyReLU())\n",
    "model.load_weights('weights/bitcoin2015to2017_close_LSTM_1_tanh_leaky_-44-0.00004.hdf5')\n",
    "model.compile(loss='mse', optimizer='adam')"
   ]
  },
  {
   "cell_type": "code",
   "execution_count": 13,
   "metadata": {},
   "outputs": [
    {
     "data": {
      "text/plain": [
       "array([[ 13780.57421875,  13559.92089844,  13505.578125  ,  13531.57128906,\n",
       "         13530.35742188,  13586.72265625,  13495.48632812,  13455.85839844,\n",
       "         13488.28320312,  13540.39453125,  13371.14746094,  13469.58105469,\n",
       "         13472.74023438,  13507.29589844,  13599.37011719,  13590.74511719]], dtype=float32)"
      ]
     },
     "execution_count": 13,
     "metadata": {},
     "output_type": "execute_result"
    }
   ],
   "source": [
    "predicted = model.predict(datas)\n",
    "predicted_inverted = scaler.inverse_transform(predicted)\n",
    "predicted_inverted"
   ]
  },
  {
   "cell_type": "code",
   "execution_count": 14,
   "metadata": {
    "collapsed": true
   },
   "outputs": [],
   "source": [
    "class MyEncoder(json.JSONEncoder):\n",
    "    def encode(self, obj):\n",
    "        if isinstance(obj, float):\n",
    "            return format(obj, '.2f')\n",
    "        return json.JSONEncoder.encode(self, obj)"
   ]
  },
  {
   "cell_type": "code",
   "execution_count": 26,
   "metadata": {
    "scrolled": true
   },
   "outputs": [
    {
     "data": {
      "text/plain": [
       "'[13780.57421875, 13559.9208984375, 13505.578125, 13531.5712890625, 13530.357421875, 13586.72265625, 13495.486328125, 13455.8583984375, 13488.283203125, 13540.39453125, 13371.1474609375, 13469.5810546875, 13472.740234375, 13507.2958984375, 13599.3701171875, 13590.7451171875]'"
      ]
     },
     "execution_count": 26,
     "metadata": {},
     "output_type": "execute_result"
    }
   ],
   "source": [
    "from json import encoder\n",
    "encoder.FLOAT_REPR = lambda o: format(o, '.2f')\n",
    "json.dumps([ float(a) for a in list(predicted_inverted.reshape(-1))], cls=MyEncoder )"
   ]
  },
  {
   "cell_type": "code",
   "execution_count": 19,
   "metadata": {},
   "outputs": [],
   "source": [
    "import simplejson\n",
    "\n",
    "class PrettyFloat(float):\n",
    "    def __repr__(self):\n",
    "        return '%.15g' % self\n",
    "\n",
    "def pretty_floats(obj):\n",
    "    if isinstance(obj, float):\n",
    "        return PrettyFloat(obj)\n",
    "    elif isinstance(obj, dict):\n",
    "        return dict((k, pretty_floats(v)) for k, v in obj.items())\n",
    "    elif isinstance(obj, (list, tuple)):\n",
    "        return map(pretty_floats, obj)             \n",
    "    return obj"
   ]
  },
  {
   "cell_type": "code",
   "execution_count": 25,
   "metadata": {},
   "outputs": [
    {
     "data": {
      "text/plain": [
       "'[13781.0, 13560.0, 13506.0, 13532.0, 13530.0, 13587.0, 13495.0, 13456.0, 13488.0, 13540.0, 13371.0, 13470.0, 13473.0, 13507.0, 13599.0, 13591.0]'"
      ]
     },
     "execution_count": 25,
     "metadata": {},
     "output_type": "execute_result"
    }
   ],
   "source": [
    "simplejson.dumps(pretty_floats([ float(np.round(a)) for a in list(predicted_inverted.reshape(-1))]))"
   ]
  },
  {
   "cell_type": "code",
   "execution_count": 23,
   "metadata": {},
   "outputs": [
    {
     "data": {
      "text/plain": [
       "[13781.0,\n",
       " 13560.0,\n",
       " 13506.0,\n",
       " 13532.0,\n",
       " 13530.0,\n",
       " 13587.0,\n",
       " 13495.0,\n",
       " 13456.0,\n",
       " 13488.0,\n",
       " 13540.0,\n",
       " 13371.0,\n",
       " 13470.0,\n",
       " 13473.0,\n",
       " 13507.0,\n",
       " 13599.0,\n",
       " 13591.0]"
      ]
     },
     "execution_count": 23,
     "metadata": {},
     "output_type": "execute_result"
    }
   ],
   "source": [
    "[ float(a) for a in list(predicted_inverted.reshape(-1))]"
   ]
  },
  {
   "cell_type": "code",
   "execution_count": null,
   "metadata": {
    "collapsed": true
   },
   "outputs": [],
   "source": []
  }
 ],
 "metadata": {
  "kernelspec": {
   "display_name": "Python 2",
   "language": "python",
   "name": "python2"
  },
  "language_info": {
   "codemirror_mode": {
    "name": "ipython",
    "version": 2
   },
   "file_extension": ".py",
   "mimetype": "text/x-python",
   "name": "python",
   "nbconvert_exporter": "python",
   "pygments_lexer": "ipython2",
   "version": "2.7.14"
  }
 },
 "nbformat": 4,
 "nbformat_minor": 2
}
