{
 "cells": [
  {
   "cell_type": "code",
   "execution_count": 1,
   "metadata": {
    "collapsed": true
   },
   "outputs": [],
   "source": [
    "import numpy as np\n",
    "import pandas as pd"
   ]
  },
  {
   "cell_type": "code",
   "execution_count": 2,
   "metadata": {
    "collapsed": true,
    "scrolled": true
   },
   "outputs": [],
   "source": [
    "dfp = 'data/bitcoin2015to2017.csv'\n",
    "\n",
    "columns = ['Close']\n",
    "\n",
    "df = pd.read_csv(dfp)\n",
    "original_df = df.copy()\n",
    "time_stamps = df['Timestamp']\n",
    "df = df.loc[:,columns]\n"
   ]
  },
  {
   "cell_type": "code",
   "execution_count": 3,
   "metadata": {
    "collapsed": true
   },
   "outputs": [],
   "source": [
    "from pandas import DataFrame\n",
    "from pandas import concat\n",
    "\n",
    "def series_to_supervised(data, n_in=1, n_out=1, dropnan=True):\n",
    "\t\"\"\"\n",
    "\tFrame a time series as a supervised learning dataset.\n",
    "\tArguments:\n",
    "\t\tdata: Sequence of observations as a list or NumPy array.\n",
    "\t\tn_in: Number of lag observations as input (X).\n",
    "\t\tn_out: Number of observations as output (y).\n",
    "\t\tdropnan: Boolean whether or not to drop rows with NaN values.\n",
    "\tReturns:\n",
    "\t\tPandas DataFrame of series framed for supervised learning.\n",
    "\t\"\"\"\n",
    "\tn_vars = 1 if type(data) is list else data.shape[1]\n",
    "\tdf = DataFrame(data)\n",
    "\tcols, names = list(), list()\n",
    "\t# input sequence (t-n, ... t-1)\n",
    "\tfor i in range(n_in, 0, -1):\n",
    "\t\tcols.append(df.shift(i))\n",
    "\t\tnames += [('var%d(t-%d)' % (j+1, i)) for j in range(n_vars)]\n",
    "\t# forecast sequence (t, t+1, ... t+n)\n",
    "\tfor i in range(0, n_out):\n",
    "\t\tcols.append(df.shift(-i))\n",
    "\t\tif i == 0:\n",
    "\t\t\tnames += [('var%d(t)' % (j+1)) for j in range(n_vars)]\n",
    "\t\telse:\n",
    "\t\t\tnames += [('var%d(t+%d)' % (j+1, i)) for j in range(n_vars)]\n",
    "\t# put it all together\n",
    "\tagg = concat(cols, axis=1)\n",
    "\tagg.columns = names\n",
    "\t# drop rows with NaN values\n",
    "\tif dropnan:\n",
    "\t\tagg.dropna(inplace=True)\n",
    "\treturn agg"
   ]
  },
  {
   "cell_type": "code",
   "execution_count": 4,
   "metadata": {},
   "outputs": [],
   "source": [
    "supervised = series_to_supervised(df,256,16)\n",
    "supervised = np.array(supervised)\n",
    "original_supervised = supervised.copy()\n",
    "supervised_timestamp = series_to_supervised(time_stamps[:,None],256,16)\n",
    "supervised_timestamp = np.array(supervised_timestamp)"
   ]
  },
  {
   "cell_type": "code",
   "execution_count": 5,
   "metadata": {},
   "outputs": [
    {
     "data": {
      "text/plain": [
       "(300357, 272)"
      ]
     },
     "execution_count": 5,
     "metadata": {},
     "output_type": "execute_result"
    }
   ],
   "source": [
    "supervised_timestamp.shape"
   ]
  },
  {
   "cell_type": "code",
   "execution_count": 6,
   "metadata": {},
   "outputs": [],
   "source": [
    "from sklearn.preprocessing import StandardScaler\n",
    "scaler = StandardScaler()\n",
    "scaled_supervised=[]\n",
    "for i in range(len(supervised)):\n",
    "    scaled_supervised.append(scaler.fit_transform(supervised[i].reshape(-1,1)))\n",
    "scaled_supervised = np.array(scaled_supervised)"
   ]
  },
  {
   "cell_type": "code",
   "execution_count": 7,
   "metadata": {},
   "outputs": [],
   "source": [
    "def splitByMonth(df):\n",
    "    df['month'] = pd.to_datetime(df.Timestamp,unit='s').dt.month + pd.to_datetime(df.Timestamp,unit='s').dt.year * 100\n",
    "    uniqueMonth = (df['month']).unique()\n",
    "    mList = list(df['month'])\n",
    "    splitIndexes = []\n",
    "    for m in uniqueMonth:\n",
    "        splitIndexes.append(mList.index(m))    \n",
    "    return np.sort(splitIndexes)\n",
    "splitIndexes =   splitByMonth(original_df)"
   ]
  },
  {
   "cell_type": "code",
   "execution_count": 8,
   "metadata": {
    "scrolled": true
   },
   "outputs": [
    {
     "data": {
      "text/plain": [
       "array([     0,   2650,  11578,  20218,  29146,  37786,  46714,  55642,\n",
       "        64282,  73210,  81850,  90778,  99706, 108058, 116986, 125626,\n",
       "       134554, 143194, 152122, 161050, 169690, 178618, 187258, 196186,\n",
       "       205114, 213178, 222106, 230746, 239674, 248314, 257242, 266170,\n",
       "       274810, 283738, 292378])"
      ]
     },
     "execution_count": 8,
     "metadata": {},
     "output_type": "execute_result"
    }
   ],
   "source": [
    "splitIndexes"
   ]
  },
  {
   "cell_type": "code",
   "execution_count": 9,
   "metadata": {
    "scrolled": true
   },
   "outputs": [],
   "source": [
    "X = supervised[:,:256]\n",
    "y = supervised[:,256:]\n",
    "scaled_X = scaled_supervised[:,:256]\n",
    "scaled_Y = scaled_supervised[:,256:]\n",
    "supervised_timestamp_X = supervised_timestamp[:,:256]\n",
    "supervised_timestamp_y = supervised_timestamp[:,256:]"
   ]
  },
  {
   "cell_type": "code",
   "execution_count": 10,
   "metadata": {},
   "outputs": [],
   "source": [
    "X_split=[]\n",
    "y_split=[]\n",
    "scaled_X_split=[]\n",
    "scaled_y_split=[]\n",
    "supervised_timestamp_X_split=[]\n",
    "supervised_timestamp_y_split=[]\n",
    "for i in range(len(splitIndexes)-5):\n",
    "    X_split.append(X[splitIndexes[i]:splitIndexes[i+4],:])\n",
    "    y_split.append(y[splitIndexes[i+4]:splitIndexes[i+5],:])\n",
    "    scaled_X_split.append(scaled_X[splitIndexes[i]:splitIndexes[i+4],:])\n",
    "    scaled_y_split.append(scaled_Y[splitIndexes[i+4]:splitIndexes[i+5],:])\n",
    "    supervised_timestamp_X_split.append(supervised_timestamp_X[splitIndexes[i]:splitIndexes[i+4],:])\n",
    "    supervised_timestamp_y_split.append(supervised_timestamp_y[splitIndexes[i+4]:splitIndexes[i+5],:])"
   ]
  },
  {
   "cell_type": "code",
   "execution_count": 35,
   "metadata": {
    "collapsed": true
   },
   "outputs": [],
   "source": [
    "file_name ='data/bitcoin2015to2017_wf.h5'"
   ]
  },
  {
   "cell_type": "code",
   "execution_count": 36,
   "metadata": {},
   "outputs": [],
   "source": [
    "import h5py\n",
    "dt = h5py.special_dtype(vlen=np.dtype('float64'))\n",
    "with h5py.File(file_name, 'w') as f:\n",
    "    f.create_dataset(\"inputs\", data = scaled_X_split , dtype=dt)\n",
    "    f.create_dataset('outputs', data = scaled_y_split, dtype=dt)\n",
    "    f.create_dataset(\"input_times\", data = supervised_timestamp_X_split, dtype=dt)\n",
    "    f.create_dataset('output_times', data = supervised_timestamp_y_split, dtype=dt)\n",
    "    f.create_dataset(\"original_datas\", data=supervised)\n",
    "    f.create_dataset('original_inputs',data=X_split, dtype=dt)\n",
    "    f.create_dataset('original_outputs',data=y_split, dtype=dt)"
   ]
  }
 ],
 "metadata": {
  "kernelspec": {
   "display_name": "Python 2",
   "language": "python",
   "name": "python2"
  },
  "language_info": {
   "codemirror_mode": {
    "name": "ipython",
    "version": 2
   },
   "file_extension": ".py",
   "mimetype": "text/x-python",
   "name": "python",
   "nbconvert_exporter": "python",
   "pygments_lexer": "ipython2",
   "version": "2.7.14"
  }
 },
 "nbformat": 4,
 "nbformat_minor": 2
}
