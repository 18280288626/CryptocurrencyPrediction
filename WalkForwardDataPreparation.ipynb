{
 "cells": [
  {
   "cell_type": "code",
   "execution_count": 61,
   "metadata": {
    "collapsed": true
   },
   "outputs": [],
   "source": [
    "import json\n",
    "import numpy as np\n",
    "import os\n",
    "import pandas as pd\n",
    "import urllib2\n",
    "from sklearn.preprocessing import StandardScaler\n",
    "import h5py"
   ]
  },
  {
   "cell_type": "code",
   "execution_count": 62,
   "metadata": {
    "collapsed": true
   },
   "outputs": [],
   "source": [
    "coins = ['BTC', 'LTC', 'ETH', 'XMR']\n",
    "df_list=[]\n",
    "for coin in coins:\n",
    "    url = 'https://poloniex.com/public?command=returnChartData&currencyPair=USDT_'+coin+'&start=1439014500&end=9999999999&period=300'\n",
    "    openUrl = urllib2.urlopen(url)\n",
    "    r = openUrl.read()\n",
    "    openUrl.close()\n",
    "    d = json.loads(r.decode())\n",
    "    df = pd.DataFrame(d)\n",
    "    original_columns=[u'close', u'date', u'high', u'low', u'open']\n",
    "    new_columns = ['Close','Timestamp','High','Low','Open']\n",
    "    df = df.loc[:,original_columns]\n",
    "    df.columns = new_columns\n",
    "    df_list.append(df)"
   ]
  },
  {
   "cell_type": "code",
   "execution_count": 63,
   "metadata": {
    "collapsed": true
   },
   "outputs": [],
   "source": [
    "from pandas import DataFrame\n",
    "from pandas import concat\n",
    "\n",
    "def series_to_supervised(data, n_in=1, n_out=1, dropnan=True):\n",
    "\t\"\"\"\n",
    "\tFrame a time series as a supervised learning dataset.\n",
    "\tArguments:\n",
    "\t\tdata: Sequence of observations as a list or NumPy array.\n",
    "\t\tn_in: Number of lag observations as input (X).\n",
    "\t\tn_out: Number of observations as output (y).\n",
    "\t\tdropnan: Boolean whether or not to drop rows with NaN values.\n",
    "\tReturns:\n",
    "\t\tPandas DataFrame of series framed for supervised learning.\n",
    "\t\"\"\"\n",
    "\tn_vars = 1 if type(data) is list else data.shape[1]\n",
    "\tdf = DataFrame(data)\n",
    "\tcols, names = list(), list()\n",
    "\t# input sequence (t-n, ... t-1)\n",
    "\tfor i in range(n_in, 0, -1):\n",
    "\t\tcols.append(df.shift(i))\n",
    "\t\tnames += [('var%d(t-%d)' % (j+1, i)) for j in range(n_vars)]\n",
    "\t# forecast sequence (t, t+1, ... t+n)\n",
    "\tfor i in range(0, n_out):\n",
    "\t\tcols.append(df.shift(-i))\n",
    "\t\tif i == 0:\n",
    "\t\t\tnames += [('var%d(t)' % (j+1)) for j in range(n_vars)]\n",
    "\t\telse:\n",
    "\t\t\tnames += [('var%d(t+%d)' % (j+1, i)) for j in range(n_vars)]\n",
    "\t# put it all together\n",
    "\tagg = concat(cols, axis=1)\n",
    "\tagg.columns = names\n",
    "\t# drop rows with NaN values\n",
    "\tif dropnan:\n",
    "\t\tagg.dropna(inplace=True)\n",
    "\treturn agg"
   ]
  },
  {
   "cell_type": "code",
   "execution_count": 70,
   "metadata": {
    "scrolled": true
   },
   "outputs": [],
   "source": [
    "superviseds= None\n",
    "supervised_timestamp_Xs =None\n",
    "supervised_timestamp_Ys = None\n",
    "scaled_Xs = None\n",
    "scaled_Ys = None\n",
    "Xs = None\n",
    "Ys = None\n",
    "first_it=True\n",
    "for df in df_list:    \n",
    "    columns = ['Close']\n",
    "    original_df = df.copy()\n",
    "    time_stamps = df['Timestamp']\n",
    "    df = df.loc[:,columns]\n",
    "    \n",
    "    \n",
    "    supervised = series_to_supervised(df,256,16)\n",
    "    supervised = np.array(supervised)\n",
    "    supervised_timestamp = series_to_supervised(time_stamps[:,None],256,16)\n",
    "    supervised_timestamp = np.array(supervised_timestamp)\n",
    "    \n",
    "    \n",
    "    \n",
    "    # standardize the data\n",
    "    scaler = StandardScaler()\n",
    "    scaled_supervised=[]\n",
    "    scaler.fit(df)\n",
    "    for i in range(len(supervised)):\n",
    "        scaled_supervised.append(scaler.transform(supervised[i].reshape(-1,1)))\n",
    "    scaled_supervised = np.array(scaled_supervised)\n",
    "    \n",
    "    \n",
    "    # change them to 3 dimensional\n",
    "    supervised = supervised[:,:,None]\n",
    "    supervised_timestamp = supervised_timestamp[:,:,None]\n",
    "    \n",
    "    #splitting into training X and testing Y\n",
    "    X = supervised[:,:256]\n",
    "    Y = supervised[:,256:]\n",
    "    scaled_X = scaled_supervised[:,:256]\n",
    "    scaled_Y = scaled_supervised[:,256:]\n",
    "    supervised_timestamp_X = supervised_timestamp[:,:256]\n",
    "    supervised_timestamp_Y = supervised_timestamp[:,256:]\n",
    "#     print scaled_X.shape\n",
    "#     print scaled_Y.shape\n",
    "#     print supervised_timestamp_X.shape\n",
    "#     print supervised_timestamp_Y.shape\n",
    "#     print supervised.shape\n",
    "    \n",
    "    if first_it:\n",
    "        Xs = X\n",
    "        Ys = Y\n",
    "        scaled_Xs = scaled_X\n",
    "        scaled_Ys = scaled_Y\n",
    "        supervised_timestamp_Xs = supervised_timestamp_X\n",
    "        supervised_timestamp_Ys = supervised_timestamp_Y\n",
    "        superviseds = supervised\n",
    "        first_it=False\n",
    "    else:\n",
    "        #stack on the third dimension\n",
    "        scaled_Xs = np.concatenate((scaled_Xs,scaled_X), axis=2)\n",
    "        #scaled_Ys = np.concatenate((scaled_Ys,scaled_Y), axis=2)\n",
    "        supervised_timestamp_Xs = np.concatenate((supervised_timestamp_Xs,supervised_timestamp_X), axis=2)\n",
    "        \n",
    "        superviseds = np.concatenate((superviseds,supervised), axis=2)\n",
    "        Xs = np.concatenate((Xs,X), axis=2)\n",
    "        "
   ]
  },
  {
   "cell_type": "code",
   "execution_count": 71,
   "metadata": {
    "scrolled": false
   },
   "outputs": [
    {
     "name": "stdout",
     "output_type": "stream",
     "text": [
      "(253180, 272, 4)\n",
      "(253180, 256, 4)\n",
      "(253180, 16, 1)\n",
      "(253180, 256, 4)\n",
      "(253180, 16, 1)\n",
      "(253180, 256, 4)\n",
      "(253180, 16, 1)\n"
     ]
    }
   ],
   "source": [
    "print superviseds.shape\n",
    "print supervised_timestamp_Xs.shape\n",
    "print supervised_timestamp_Ys.shape\n",
    "print scaled_Xs.shape\n",
    "print scaled_Ys.shape\n",
    "print Xs.shape\n",
    "print Ys.shape"
   ]
  },
  {
   "cell_type": "code",
   "execution_count": 72,
   "metadata": {},
   "outputs": [
    {
     "data": {
      "text/plain": [
       "31"
      ]
     },
     "execution_count": 72,
     "metadata": {},
     "output_type": "execute_result"
    }
   ],
   "source": [
    "#assume 8000 timestemps a month\n",
    "nb_months = Xs.shape[0]/8000\n",
    "nb_months"
   ]
  },
  {
   "cell_type": "code",
   "execution_count": 73,
   "metadata": {
    "collapsed": true
   },
   "outputs": [],
   "source": [
    "inputs=[]\n",
    "outputs=[]\n",
    "# input_times=[]\n",
    "# output_times=[]\n",
    "# original_inputs=[]\n",
    "# original_outputs=[]\n",
    "for i in range(nb_months-5):\n",
    "#     original_inputs.append(Xs[i*8000:(i+5)*8000,:,:])\n",
    "#     original_outputs.append(Ys[i*8000:(i+5)*8000,:,:])\n",
    "    inputs.append(scaled_Xs[i*8000:(i+5)*8000,:,:])\n",
    "    outputs.append(scaled_Ys[i*8000:(i+5)*8000,:,:])\n",
    "#     input_times.append(supervised_timestamp_Xs[i*8000:(i+5)*8000,:,:])\n",
    "#     output_times.append(supervised_timestamp_Ys[i*8000:(i+5)*8000,:,:])\n",
    "# original_outputs = np.array(original_outputs)\n",
    "# original_inputs = np.array(original_inputs)\n",
    "inputs = np.array(inputs)\n",
    "outputs= np.array(outputs)\n",
    "input_times = np.array(input_times)\n",
    "output_times = np.array(output_times)"
   ]
  },
  {
   "cell_type": "code",
   "execution_count": 74,
   "metadata": {
    "collapsed": true
   },
   "outputs": [],
   "source": [
    "test_size = Xs.shape[0] % 8000"
   ]
  },
  {
   "cell_type": "code",
   "execution_count": 75,
   "metadata": {
    "collapsed": true
   },
   "outputs": [],
   "source": [
    "original_test_inputs = Xs[-test_size:,:,:]\n",
    "original_test_outputs = Ys[-test_size:,:,:]\n",
    "test_inputs = scaled_Xs[-test_size:,:,:]\n",
    "test_outputs = scaled_Ys[-test_size:,:,:]\n",
    "test_input_times = supervised_timestamp_Xs[-test_size:,:,:]\n",
    "test_output_times = supervised_timestamp_Ys[-test_size:,:,:]\n",
    "original_datas = superviseds[-(len(original_test_outputs)):,:,0][:,:,None]"
   ]
  },
  {
   "cell_type": "code",
   "execution_count": 76,
   "metadata": {
    "scrolled": true
   },
   "outputs": [
    {
     "name": "stdout",
     "output_type": "stream",
     "text": [
      "(5180, 16, 1)\n",
      "(5180, 256, 4)\n",
      "(5180, 16, 1)\n",
      "(5180, 256, 4)\n",
      "(5180, 256, 4)\n",
      "(5180, 16, 1)\n",
      "(26, 40000, 256, 4)\n",
      "(26, 40000, 16, 1)\n",
      "(5180, 272, 1)\n"
     ]
    }
   ],
   "source": [
    "print test_output_times.shape\n",
    "print test_input_times.shape\n",
    "print original_test_outputs.shape\n",
    "print original_test_inputs.shape\n",
    "print test_inputs.shape\n",
    "print test_outputs.shape\n",
    "print inputs.shape\n",
    "print outputs.shape\n",
    "print original_datas.shape"
   ]
  },
  {
   "cell_type": "code",
   "execution_count": 77,
   "metadata": {
    "collapsed": true
   },
   "outputs": [],
   "source": [
    "file_name ='data/allcoin2015to2017_wf.h5'"
   ]
  },
  {
   "cell_type": "code",
   "execution_count": 78,
   "metadata": {
    "collapsed": true
   },
   "outputs": [],
   "source": [
    "import h5py\n",
    "with h5py.File(file_name, 'w') as f:\n",
    "    f.create_dataset(\"inputs\", data = inputs )\n",
    "    f.create_dataset('outputs', data = outputs)\n",
    "    f.create_dataset(\"test_inputs\", data = test_inputs )\n",
    "    f.create_dataset('test_outputs', data = test_outputs)\n",
    "    f.create_dataset(\"test_input_times\", data = test_input_times)\n",
    "    f.create_dataset('test_output_times', data = test_output_times)\n",
    "    f.create_dataset('original_test_inputs',data=original_test_inputs)\n",
    "    f.create_dataset('original_test_outputs',data=original_test_outputs)    \n",
    "    f.create_dataset(\"original_datas\", data=original_datas)\n",
    "#     f.create_dataset('original_inputs',data=original_inputs)\n",
    "#     f.create_dataset('original_outputs',data=original_outputs)"
   ]
  },
  {
   "cell_type": "code",
   "execution_count": null,
   "metadata": {
    "collapsed": true
   },
   "outputs": [],
   "source": []
  }
 ],
 "metadata": {
  "kernelspec": {
   "display_name": "Python 2",
   "language": "python",
   "name": "python2"
  },
  "language_info": {
   "codemirror_mode": {
    "name": "ipython",
    "version": 2
   },
   "file_extension": ".py",
   "mimetype": "text/x-python",
   "name": "python",
   "nbconvert_exporter": "python",
   "pygments_lexer": "ipython2",
   "version": "2.7.14"
  }
 },
 "nbformat": 4,
 "nbformat_minor": 2
}
